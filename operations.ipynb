{
  "metadata": {
    "kernelspec": {
      "name": "python",
      "display_name": "Python (Pyodide)",
      "language": "python"
    },
    "language_info": {
      "codemirror_mode": {
        "name": "python",
        "version": 3
      },
      "file_extension": ".py",
      "mimetype": "text/x-python",
      "name": "python",
      "nbconvert_exporter": "python",
      "pygments_lexer": "ipython3",
      "version": "3.8"
    }
  },
  "nbformat_minor": 5,
  "nbformat": 4,
  "cells": [
    {
      "id": "fde7d64c-168a-4b74-8aa7-90326103acde",
      "cell_type": "code",
      "source": "# List operations\nmy_list = [1, 2, 3]\nprint(\"Original list:\", my_list)\n\n# Adding an element\nmy_list.append(4)\nprint(\"After adding an element:\", my_list)\n\n# Removing an element\nmy_list.remove(2)\nprint(\"After removing an element:\", my_list)\n\n# Modifying an element\nmy_list[1] = 5\nprint(\"After modifying an element:\", my_list)\n\n\n",
      "metadata": {
        "trusted": true
      },
      "outputs": [
        {
          "name": "stdout",
          "text": "Original list: [1, 2, 3]\nAfter adding an element: [1, 2, 3, 4]\nAfter removing an element: [1, 3, 4]\nAfter modifying an element: [1, 5, 4]\n",
          "output_type": "stream"
        }
      ],
      "execution_count": 1
    },
    {
      "id": "817795b2-d387-41ff-b2da-369769b99c9f",
      "cell_type": "code",
      "source": "\n\n# Dictionary operations\nmy_dict = {'a': 1, 'b': 2, 'c': 3}\nprint(\"\\nOriginal dictionary:\", my_dict)\n\n# Adding a key-value pair\nmy_dict['d'] = 4\nprint(\"After adding a key-value pair:\", my_dict)\n\n# Removing a key-value pair\ndel my_dict['b']\nprint(\"After removing a key-value pair:\", my_dict)\n\n# Modifying a value\nmy_dict['a'] = 5\nprint(\"After modifying a value:\", my_dict)\n\n",
      "metadata": {
        "trusted": true
      },
      "outputs": [
        {
          "name": "stdout",
          "text": "\nOriginal dictionary: {'a': 1, 'b': 2, 'c': 3}\nAfter adding a key-value pair: {'a': 1, 'b': 2, 'c': 3, 'd': 4}\nAfter removing a key-value pair: {'a': 1, 'c': 3, 'd': 4}\nAfter modifying a value: {'a': 5, 'c': 3, 'd': 4}\n",
          "output_type": "stream"
        }
      ],
      "execution_count": 2
    },
    {
      "id": "3333e68f-7867-457b-b5ba-84ee67bcb1d9",
      "cell_type": "code",
      "source": "\n\n# Set operations\nmy_set = {1, 2, 3}\nprint(\"\\nOriginal set:\", my_set)\n\n# Adding an element\nmy_set.add(4)\nprint(\"After adding an element:\", my_set)\n\n# Removing an element\nmy_set.remove(2)\nprint(\"After removing an element:\", my_set)",
      "metadata": {
        "trusted": true
      },
      "outputs": [
        {
          "name": "stdout",
          "text": "\nOriginal set: {1, 2, 3}\nAfter adding an element: {1, 2, 3, 4}\nAfter removing an element: {1, 3, 4}\n",
          "output_type": "stream"
        }
      ],
      "execution_count": 3
    },
    {
      "id": "42508f7e-eceb-4843-ab8c-96b29d1f6a56",
      "cell_type": "code",
      "source": "",
      "metadata": {
        "trusted": true
      },
      "outputs": [],
      "execution_count": null
    }
  ]
}